{
 "cells": [
  {
   "cell_type": "markdown",
   "metadata": {},
   "source": [
    "# Train a scikit-learn model and upload it to MinIO\n",
    "\n",
    "This notebook trains a simple model with **scikit-learn**, saves it to disk, and uploads the artifact to a **MinIO** bucket using the Python MinIO SDK.\n",
    "\n",
    "### Prerequisites\n",
    "- A running MinIO instance (endpoint + credentials)\n",
    "- A bucket name to upload the model to\n",
    "- Internet access to install packages if they are not already present in the environment\n",
    "\n",
    "### How to use\n",
    "1. Set the MinIO connection variables in the next cell (or rely on environment variables).\n",
    "2. Run the cells in order.\n",
    "3. Your trained model will be saved locally and uploaded to the MinIO bucket.\n"
   ]
  },
  {
   "cell_type": "code",
   "execution_count": 1,
   "metadata": {},
   "outputs": [
    {
     "name": "stdout",
     "output_type": "stream",
     "text": [
      "Note: you may need to restart the kernel to use updated packages.\n"
     ]
    },
    {
     "name": "stderr",
     "output_type": "stream",
     "text": [
      "\n",
      "[notice] A new release of pip is available: 25.1.1 -> 25.2\n",
      "[notice] To update, run: python.exe -m pip install --upgrade pip\n"
     ]
    },
    {
     "name": "stdout",
     "output_type": "stream",
     "text": [
      "Note: you may need to restart the kernel to use updated packages.\n",
      "Dependencies ready.\n"
     ]
    },
    {
     "name": "stderr",
     "output_type": "stream",
     "text": [
      "\n",
      "[notice] A new release of pip is available: 25.1.1 -> 25.2\n",
      "[notice] To update, run: python.exe -m pip install --upgrade pip\n"
     ]
    }
   ],
   "source": [
    "# If needed, install dependencies (uncomment if your image doesn't already have them)\n",
    "try:\n",
    "    import sklearn, joblib  # noqa: F401\n",
    "except Exception:\n",
    "    %pip install --quiet scikit-learn joblib\n",
    "\n",
    "try:\n",
    "    import minio  # noqa: F401\n",
    "except Exception:\n",
    "    %pip install --quiet minio\n",
    "\n",
    "print('Dependencies ready.')"
   ]
  },
  {
   "cell_type": "code",
   "execution_count": null,
   "id": "5ccb09af",
   "metadata": {},
   "outputs": [],
   "source": [
    "import os\n",
    "from dataclasses import dataclass\n",
    "\n",
    "@dataclass\n",
    "class MinIOConfig:\n",
    "    endpoint: str\n",
    "    access_key: str\n",
    "    secret_key: str\n",
    "    bucket: str\n",
    "    secure: bool = False  # set True if your MinIO uses TLS\n",
    "\n",
    "cfg = MinIOConfig(\n",
    "    endpoint=os.getenv('MINIO_ENDPOINT'),  # e.g. 'minio.minio.svc:9000' or the Route host\n",
    "    access_key=os.getenv('MINIO_ACCESS_KEY'),\n",
    "    secret_key=os.getenv('MINIO_SECRET_KEY'),\n",
    "    bucket=os.getenv('MINIO_BUCKET', 'artifacts'),\n",
    "    secure=os.getenv('MINIO_SECURE', 'false').lower() == 'true'\n",
    ")\n",
    "cfg"
   ]
  },
  {
   "cell_type": "code",
   "execution_count": null,
   "id": "d67aa170",
   "metadata": {},
   "outputs": [],
   "source": []
  },
  {
   "cell_type": "code",
   "execution_count": null,
   "metadata": {},
   "outputs": [],
   "source": [
    "#from datetime import datetime\n",
    "from sklearn.datasets import load_iris\n",
    "from sklearn.model_selection import train_test_split\n",
    "from sklearn.linear_model import LogisticRegression\n",
    "from sklearn.metrics import accuracy_score\n",
    "import joblib\n",
    "from pathlib import Path\n",
    "\n",
    "# Train a small model on the Iris dataset\n",
    "iris = load_iris()\n",
    "X_train, X_test, y_train, y_test = train_test_split(iris.data, iris.target, test_size=0.2, random_state=42)\n",
    "clf = LogisticRegression(max_iter=200)\n",
    "clf.fit(X_train, y_train)\n",
    "preds = clf.predict(X_test)\n",
    "acc = accuracy_score(y_test, preds)\n",
    "print(f'Accuracy: {acc:.3f}')\n",
    "\n",
    "# Save the model locally\n",
    "artifact_dir = Path('artifacts')\n",
    "artifact_dir.mkdir(exist_ok=True)\n",
    "model_path = artifact_dir/'iris_logreg.joblib'\n",
    "joblib.dump({'model': clf, 'accuracy': float(acc), 'timestamp': datetime.utcnow().isoformat() + 'Z'}, model_path)\n",
    "print(f'Model saved to: {model_path}')"
   ]
  },
  {
   "cell_type": "code",
   "execution_count": null,
   "metadata": {},
   "outputs": [],
   "source": [
    "from minio import Minio\n",
    "\n",
    "client = Minio(\n",
    "    endpoint=cfg.endpoint,\n",
    "    access_key=cfg.access_key,\n",
    "    secret_key=cfg.secret_key,\n",
    "    secure=cfg.secure,\n",
    ")\n",
    "\n",
    "# Ensure bucket exists\n",
    "if not client.bucket_exists(cfg.bucket):\n",
    "    client.make_bucket(cfg.bucket)\n",
    "    print(f\"Created bucket '{cfg.bucket}'\")\n",
    "else:\n",
    "    print(f\"Bucket '{cfg.bucket}' already exists\")\n",
    "\n",
    "# Upload the artifact\n",
    "object_name = f\"artifact_dir/{model_path.name}\"\n",
    "result = client.fput_object(\n",
    "    bucket_name=cfg.bucket,\n",
    "    object_name=object_name,\n",
    "    file_path=str(model_path),\n",
    "    content_type='application/octet-stream',\n",
    ")\n",
    "print('Uploaded:', result.object_name)\n",
    "\n",
    "# List objects to confirm\n",
    "print('Objects in bucket:')\n",
    "for obj in client.list_objects(cfg.bucket, prefix='artifact_dir/', recursive=True):\n",
    "    print('-', obj.object_name)"
   ]
  },
  {
   "cell_type": "markdown",
   "metadata": {},
   "source": [
    "## Notes\n",
    "- If you're running on OpenShift AI (Red Hat OpenShift AI Workbench), you can set environment variables in the Workbench settings or directly in a cell before initializing the client.\n",
    "- For production, enable TLS on MinIO and set `cfg.secure=True`.\n",
    "- If using an OpenShift Route for the S3 API, ensure your signature and TLS settings align with the router configuration (passthrough is usually safest for S3).\n"
   ]
  }
 ],
 "metadata": {
  "kernelspec": {
   "display_name": ".venv",
   "language": "python",
   "name": "python3"
  },
  "language_info": {
   "codemirror_mode": {
    "name": "ipython",
    "version": 3
   },
   "file_extension": ".py",
   "mimetype": "text/x-python",
   "name": "python",
   "nbconvert_exporter": "python",
   "pygments_lexer": "ipython3",
   "version": "3.13.3"
  }
 },
 "nbformat": 4,
 "nbformat_minor": 5
}
